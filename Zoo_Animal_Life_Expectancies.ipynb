{
 "cells": [
  {
   "cell_type": "code",
   "execution_count": 104,
   "id": "55582e2d",
   "metadata": {},
   "outputs": [],
   "source": [
    "import pandas as pd\n",
    "import seaborn as sns\n",
    "import numpy as np\n",
    "\n",
    "df = pd.read_csv('zoo_animal_lifespans_processed.csv')"
   ]
  },
  {
   "cell_type": "markdown",
   "id": "4deb1ba7",
   "metadata": {},
   "source": [
    "I collected data on life expectancy estimates (measured in years) for North American zoo and aquarium vertebrate animals, including species name, taxon class, overall median life expectancy (MLE), and sample size and MLE of males and females. "
   ]
  },
  {
   "cell_type": "code",
   "execution_count": 105,
   "id": "107bd4bf",
   "metadata": {
    "scrolled": true
   },
   "outputs": [
    {
     "data": {
      "text/html": [
       "<div>\n",
       "<style scoped>\n",
       "    .dataframe tbody tr th:only-of-type {\n",
       "        vertical-align: middle;\n",
       "    }\n",
       "\n",
       "    .dataframe tbody tr th {\n",
       "        vertical-align: top;\n",
       "    }\n",
       "\n",
       "    .dataframe thead th {\n",
       "        text-align: right;\n",
       "    }\n",
       "</style>\n",
       "<table border=\"1\" class=\"dataframe\">\n",
       "  <thead>\n",
       "    <tr style=\"text-align: right;\">\n",
       "      <th></th>\n",
       "      <th>Species Common Name</th>\n",
       "      <th>Scientific Name</th>\n",
       "      <th>Taxon Class</th>\n",
       "      <th>Overall Sample Size</th>\n",
       "      <th>Overall MLE</th>\n",
       "      <th>Male Sample Size</th>\n",
       "      <th>Male MLE</th>\n",
       "      <th>Female Sample Size</th>\n",
       "      <th>Female MLE</th>\n",
       "    </tr>\n",
       "  </thead>\n",
       "  <tbody>\n",
       "    <tr>\n",
       "      <th>0</th>\n",
       "      <td>Addax</td>\n",
       "      <td>Addax nasomaculatus</td>\n",
       "      <td>Mammalia</td>\n",
       "      <td>1215.0</td>\n",
       "      <td>13.4</td>\n",
       "      <td>558.0</td>\n",
       "      <td>12.3</td>\n",
       "      <td>656.0</td>\n",
       "      <td>14.4</td>\n",
       "    </tr>\n",
       "    <tr>\n",
       "      <th>1</th>\n",
       "      <td>Agouti, Brazilian</td>\n",
       "      <td>Dasyprocta leporina</td>\n",
       "      <td>Mammalia</td>\n",
       "      <td>456.0</td>\n",
       "      <td>8.1</td>\n",
       "      <td>216.0</td>\n",
       "      <td>8.8</td>\n",
       "      <td>220.0</td>\n",
       "      <td>7.8</td>\n",
       "    </tr>\n",
       "    <tr>\n",
       "      <th>2</th>\n",
       "      <td>Alligator, Chinese</td>\n",
       "      <td>Alligator sinensis</td>\n",
       "      <td>Reptilia</td>\n",
       "      <td>351.0</td>\n",
       "      <td>30.9</td>\n",
       "      <td>151.0</td>\n",
       "      <td>25.9</td>\n",
       "      <td>176.0</td>\n",
       "      <td>32.8</td>\n",
       "    </tr>\n",
       "    <tr>\n",
       "      <th>3</th>\n",
       "      <td>Anoa, Lowland</td>\n",
       "      <td>Bubalus depressicornis</td>\n",
       "      <td>Mammalia</td>\n",
       "      <td>256.0</td>\n",
       "      <td>17.7</td>\n",
       "      <td>113.0</td>\n",
       "      <td>16.3</td>\n",
       "      <td>139.0</td>\n",
       "      <td>18.8</td>\n",
       "    </tr>\n",
       "    <tr>\n",
       "      <th>4</th>\n",
       "      <td>Anteater, Giant</td>\n",
       "      <td>Myrmecophaga tridactyla</td>\n",
       "      <td>Mammalia</td>\n",
       "      <td>177.0</td>\n",
       "      <td>19.7</td>\n",
       "      <td>86.0</td>\n",
       "      <td>19.4</td>\n",
       "      <td>90.0</td>\n",
       "      <td>19.7</td>\n",
       "    </tr>\n",
       "    <tr>\n",
       "      <th>5</th>\n",
       "      <td>Antelope, Roan</td>\n",
       "      <td>Hippotragus equinus</td>\n",
       "      <td>Mammalia</td>\n",
       "      <td>456.0</td>\n",
       "      <td>12.5</td>\n",
       "      <td>210.0</td>\n",
       "      <td>12.7</td>\n",
       "      <td>245.0</td>\n",
       "      <td>12.4</td>\n",
       "    </tr>\n",
       "    <tr>\n",
       "      <th>6</th>\n",
       "      <td>Antelope, Sable</td>\n",
       "      <td>Hippotragus niger</td>\n",
       "      <td>Mammalia</td>\n",
       "      <td>1398.0</td>\n",
       "      <td>11.3</td>\n",
       "      <td>602.0</td>\n",
       "      <td>10.6</td>\n",
       "      <td>795.0</td>\n",
       "      <td>11.6</td>\n",
       "    </tr>\n",
       "    <tr>\n",
       "      <th>7</th>\n",
       "      <td>Aracari, Green</td>\n",
       "      <td>Pteroglossus viridis</td>\n",
       "      <td>Aves</td>\n",
       "      <td>358.0</td>\n",
       "      <td>7.9</td>\n",
       "      <td>174.0</td>\n",
       "      <td>8.5</td>\n",
       "      <td>175.0</td>\n",
       "      <td>7.6</td>\n",
       "    </tr>\n",
       "    <tr>\n",
       "      <th>8</th>\n",
       "      <td>Argus, Great</td>\n",
       "      <td>Argusianus argus</td>\n",
       "      <td>Aves</td>\n",
       "      <td>310.0</td>\n",
       "      <td>10.8</td>\n",
       "      <td>138.0</td>\n",
       "      <td>10.6</td>\n",
       "      <td>160.0</td>\n",
       "      <td>11.1</td>\n",
       "    </tr>\n",
       "    <tr>\n",
       "      <th>9</th>\n",
       "      <td>Armadillo, Southern Three-banded</td>\n",
       "      <td>Tolypeutes matacas</td>\n",
       "      <td>Mammalia</td>\n",
       "      <td>233.0</td>\n",
       "      <td>17.6</td>\n",
       "      <td>109.0</td>\n",
       "      <td>16.4</td>\n",
       "      <td>124.0</td>\n",
       "      <td>18.7</td>\n",
       "    </tr>\n",
       "  </tbody>\n",
       "</table>\n",
       "</div>"
      ],
      "text/plain": [
       "                Species Common Name          Scientific Name Taxon Class  \\\n",
       "0                             Addax      Addax nasomaculatus    Mammalia   \n",
       "1                 Agouti, Brazilian      Dasyprocta leporina    Mammalia   \n",
       "2                Alligator, Chinese       Alligator sinensis    Reptilia   \n",
       "3                     Anoa, Lowland   Bubalus depressicornis    Mammalia   \n",
       "4                   Anteater, Giant  Myrmecophaga tridactyla    Mammalia   \n",
       "5                    Antelope, Roan      Hippotragus equinus    Mammalia   \n",
       "6                   Antelope, Sable        Hippotragus niger    Mammalia   \n",
       "7                    Aracari, Green     Pteroglossus viridis        Aves   \n",
       "8                      Argus, Great         Argusianus argus        Aves   \n",
       "9  Armadillo, Southern Three-banded       Tolypeutes matacas    Mammalia   \n",
       "\n",
       "   Overall Sample Size  Overall MLE  Male Sample Size  Male MLE  \\\n",
       "0               1215.0         13.4             558.0      12.3   \n",
       "1                456.0          8.1             216.0       8.8   \n",
       "2                351.0         30.9             151.0      25.9   \n",
       "3                256.0         17.7             113.0      16.3   \n",
       "4                177.0         19.7              86.0      19.4   \n",
       "5                456.0         12.5             210.0      12.7   \n",
       "6               1398.0         11.3             602.0      10.6   \n",
       "7                358.0          7.9             174.0       8.5   \n",
       "8                310.0         10.8             138.0      10.6   \n",
       "9                233.0         17.6             109.0      16.4   \n",
       "\n",
       "   Female Sample Size  Female MLE  \n",
       "0               656.0        14.4  \n",
       "1               220.0         7.8  \n",
       "2               176.0        32.8  \n",
       "3               139.0        18.8  \n",
       "4                90.0        19.7  \n",
       "5               245.0        12.4  \n",
       "6               795.0        11.6  \n",
       "7               175.0         7.6  \n",
       "8               160.0        11.1  \n",
       "9               124.0        18.7  "
      ]
     },
     "execution_count": 105,
     "metadata": {},
     "output_type": "execute_result"
    }
   ],
   "source": [
    "df.head(10)"
   ]
  },
  {
   "cell_type": "code",
   "execution_count": 79,
   "id": "62b4d979",
   "metadata": {},
   "outputs": [
    {
     "name": "stdout",
     "output_type": "stream",
     "text": [
      "330\n"
     ]
    }
   ],
   "source": [
    "print(len(df))"
   ]
  },
  {
   "cell_type": "code",
   "execution_count": 80,
   "id": "0926b80d",
   "metadata": {},
   "outputs": [
    {
     "name": "stdout",
     "output_type": "stream",
     "text": [
      "<class 'pandas.core.frame.DataFrame'>\n"
     ]
    }
   ],
   "source": [
    "print(type(df))"
   ]
  },
  {
   "cell_type": "code",
   "execution_count": 81,
   "id": "10727192",
   "metadata": {},
   "outputs": [
    {
     "data": {
      "text/plain": [
       "0                           Addax\n",
       "1               Agouti, Brazilian\n",
       "2              Alligator, Chinese\n",
       "3                   Anoa, Lowland\n",
       "4                 Anteater, Giant\n",
       "                  ...            \n",
       "325             Woodhoopoe, Green\n",
       "326       Wood-partridge, Crested\n",
       "327                Zebra, Grevy's\n",
       "328    Zebra, Hartmann's Mountain\n",
       "329                 Zebra, Plains\n",
       "Name: Species Common Name, Length: 330, dtype: object"
      ]
     },
     "execution_count": 81,
     "metadata": {},
     "output_type": "execute_result"
    }
   ],
   "source": [
    "df['Species Common Name']"
   ]
  },
  {
   "cell_type": "code",
   "execution_count": 99,
   "id": "a813241a",
   "metadata": {},
   "outputs": [
    {
     "name": "stdout",
     "output_type": "stream",
     "text": [
      "Species Common Name <class 'str'>\n",
      "Scientific Name <class 'str'>\n",
      "Taxon Class <class 'str'>\n",
      "Overall Sample Size <class 'numpy.float64'>\n",
      "Overall MLE <class 'numpy.float64'>\n",
      "Male Sample Size <class 'numpy.float64'>\n",
      "Male MLE <class 'numpy.float64'>\n",
      "Female Sample Size <class 'numpy.float64'>\n",
      "Female MLE <class 'numpy.float64'>\n"
     ]
    }
   ],
   "source": [
    "for col in df.columns:\n",
    "    print(col, type(df[col][0]))"
   ]
  },
  {
   "cell_type": "code",
   "execution_count": 94,
   "id": "a6e8ff99",
   "metadata": {},
   "outputs": [
    {
     "data": {
      "text/html": [
       "<div>\n",
       "<style scoped>\n",
       "    .dataframe tbody tr th:only-of-type {\n",
       "        vertical-align: middle;\n",
       "    }\n",
       "\n",
       "    .dataframe tbody tr th {\n",
       "        vertical-align: top;\n",
       "    }\n",
       "\n",
       "    .dataframe thead th {\n",
       "        text-align: right;\n",
       "    }\n",
       "</style>\n",
       "<table border=\"1\" class=\"dataframe\">\n",
       "  <thead>\n",
       "    <tr style=\"text-align: right;\">\n",
       "      <th></th>\n",
       "      <th>Overall Sample Size</th>\n",
       "      <th>Overall Median Life Expectancy</th>\n",
       "      <th>Male Sample Size</th>\n",
       "      <th>Male Median Life Expectancy</th>\n",
       "      <th>Female Sample Size</th>\n",
       "      <th>Female Median Life Expectancy</th>\n",
       "    </tr>\n",
       "  </thead>\n",
       "  <tbody>\n",
       "    <tr>\n",
       "      <th>count</th>\n",
       "      <td>328.000000</td>\n",
       "      <td>328.000000</td>\n",
       "      <td>324.000000</td>\n",
       "      <td>324.000000</td>\n",
       "      <td>326.000000</td>\n",
       "      <td>326.00000</td>\n",
       "    </tr>\n",
       "    <tr>\n",
       "      <th>mean</th>\n",
       "      <td>472.807927</td>\n",
       "      <td>13.404878</td>\n",
       "      <td>210.182099</td>\n",
       "      <td>13.391049</td>\n",
       "      <td>224.726994</td>\n",
       "      <td>13.45184</td>\n",
       "    </tr>\n",
       "    <tr>\n",
       "      <th>std</th>\n",
       "      <td>472.047297</td>\n",
       "      <td>7.527497</td>\n",
       "      <td>198.729091</td>\n",
       "      <td>7.463315</td>\n",
       "      <td>209.396618</td>\n",
       "      <td>7.83753</td>\n",
       "    </tr>\n",
       "    <tr>\n",
       "      <th>min</th>\n",
       "      <td>50.000000</td>\n",
       "      <td>2.400000</td>\n",
       "      <td>26.000000</td>\n",
       "      <td>2.600000</td>\n",
       "      <td>24.000000</td>\n",
       "      <td>2.40000</td>\n",
       "    </tr>\n",
       "    <tr>\n",
       "      <th>25%</th>\n",
       "      <td>187.000000</td>\n",
       "      <td>7.800000</td>\n",
       "      <td>85.750000</td>\n",
       "      <td>7.900000</td>\n",
       "      <td>94.000000</td>\n",
       "      <td>7.42500</td>\n",
       "    </tr>\n",
       "    <tr>\n",
       "      <th>50%</th>\n",
       "      <td>330.000000</td>\n",
       "      <td>12.050000</td>\n",
       "      <td>146.000000</td>\n",
       "      <td>11.550000</td>\n",
       "      <td>156.000000</td>\n",
       "      <td>11.80000</td>\n",
       "    </tr>\n",
       "    <tr>\n",
       "      <th>75%</th>\n",
       "      <td>545.750000</td>\n",
       "      <td>16.625000</td>\n",
       "      <td>249.000000</td>\n",
       "      <td>17.300000</td>\n",
       "      <td>276.500000</td>\n",
       "      <td>16.57500</td>\n",
       "    </tr>\n",
       "    <tr>\n",
       "      <th>max</th>\n",
       "      <td>3406.000000</td>\n",
       "      <td>47.000000</td>\n",
       "      <td>1425.000000</td>\n",
       "      <td>51.300000</td>\n",
       "      <td>1335.000000</td>\n",
       "      <td>43.30000</td>\n",
       "    </tr>\n",
       "  </tbody>\n",
       "</table>\n",
       "</div>"
      ],
      "text/plain": [
       "       Overall Sample Size  Overall Median Life Expectancy  Male Sample Size  \\\n",
       "count           328.000000                      328.000000        324.000000   \n",
       "mean            472.807927                       13.404878        210.182099   \n",
       "std             472.047297                        7.527497        198.729091   \n",
       "min              50.000000                        2.400000         26.000000   \n",
       "25%             187.000000                        7.800000         85.750000   \n",
       "50%             330.000000                       12.050000        146.000000   \n",
       "75%             545.750000                       16.625000        249.000000   \n",
       "max            3406.000000                       47.000000       1425.000000   \n",
       "\n",
       "       Male Median Life Expectancy  Female Sample Size  \\\n",
       "count                   324.000000          326.000000   \n",
       "mean                     13.391049          224.726994   \n",
       "std                       7.463315          209.396618   \n",
       "min                       2.600000           24.000000   \n",
       "25%                       7.900000           94.000000   \n",
       "50%                      11.550000          156.000000   \n",
       "75%                      17.300000          276.500000   \n",
       "max                      51.300000         1335.000000   \n",
       "\n",
       "       Female Median Life Expectancy  \n",
       "count                      326.00000  \n",
       "mean                        13.45184  \n",
       "std                          7.83753  \n",
       "min                          2.40000  \n",
       "25%                          7.42500  \n",
       "50%                         11.80000  \n",
       "75%                         16.57500  \n",
       "max                         43.30000  "
      ]
     },
     "execution_count": 94,
     "metadata": {},
     "output_type": "execute_result"
    }
   ],
   "source": [
    "df.describe()"
   ]
  },
  {
   "cell_type": "code",
   "execution_count": 103,
   "id": "9807a747",
   "metadata": {},
   "outputs": [
    {
     "data": {
      "text/plain": [
       "Text(0.5, 0, 'Overall Median Life Expectancy (Years)')"
      ]
     },
     "execution_count": 103,
     "metadata": {},
     "output_type": "execute_result"
    },
    {
     "data": {
      "image/png": "[encoded data removed]",
      "text/plain": [
       "<Figure size 1440x720 with 1 Axes>"
      ]
     },
     "metadata": {
      "needs_background": "light"
     },
     "output_type": "display_data"
    }
   ],
   "source": [
    "import matplotlib.pyplot as plt\n",
    "\n",
    "df.hist(column='Overall MLE')\n",
    "plt.ylabel('Number of Observations')\n",
    "plt.title('Life Expectancies of All Species (Male & Female)')\n",
    "plt.xlabel('Overall Median Life Expectancy (Years)')"
   ]
  },
  {
   "cell_type": "markdown",
   "id": "1fb0ebe2",
   "metadata": {},
   "source": [
    "This plot shows the distribution of the overall median life expectancy of all species. The most common range is 7 to 15 years. "
   ]
  }
 ],
 "metadata": {
  "kernelspec": {
   "display_name": "Python 3 (ipykernel)",
   "language": "python",
   "name": "python3"
  },
  "language_info": {
   "codemirror_mode": {
    "name": "ipython",
    "version": 3
   },
   "file_extension": ".py",
   "mimetype": "text/x-python",
   "name": "python",
   "nbconvert_exporter": "python",
   "pygments_lexer": "ipython3",
   "version": "3.9.12"
  }
 },
 "nbformat": 4,
 "nbformat_minor": 5
}
